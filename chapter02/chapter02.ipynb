{
 "cells": [
  {
   "cell_type": "markdown",
   "metadata": {
    "ExecuteTime": {
     "end_time": "2016-08-03T20:22:08.881644",
     "start_time": "2016-08-03T20:22:08.759038"
    }
   },
   "source": [
    "# 第2章：UNIXコマンドの基礎"
   ]
  },
  {
   "cell_type": "markdown",
   "metadata": {},
   "source": [
    "[hightemp.txt](http://www.cl.ecei.tohoku.ac.jp/nlp100/data/hightemp.txt)は、日本の最高気温の記録を「都道府県」「地点」「℃」「日」のタブ区切り形式で格納したファイルである。以下の処理を行うプログラムを作成し、hightemp.txtを入力ファイルとして実行せよ。さらに、同様の処理をUNIXコマンドでも実行し、プログラムをの実行結果を確認せよ。"
   ]
  },
  {
   "cell_type": "markdown",
   "metadata": {},
   "source": [
    "## 10. 行数のカウント\n",
    "\n",
    "行数をカウントせよ。確認にはwcコマンドを用いよ。"
   ]
  },
  {
   "cell_type": "code",
   "execution_count": 1,
   "metadata": {
    "ExecuteTime": {
     "end_time": "2016-08-04T11:56:41.171526",
     "start_time": "2016-08-04T11:56:41.163372"
    },
    "collapsed": false
   },
   "outputs": [
    {
     "name": "stdout",
     "output_type": "stream",
     "text": [
      "24\n"
     ]
    }
   ],
   "source": [
    "text_file = \"hightemp.txt\"\n",
    "\n",
    "with open(text_file, 'r') as f:\n",
    "    lines = f.readlines()\n",
    "\n",
    "print(len(lines))"
   ]
  },
  {
   "cell_type": "code",
   "execution_count": 2,
   "metadata": {
    "ExecuteTime": {
     "end_time": "2016-08-04T11:56:41.285429",
     "start_time": "2016-08-04T11:56:41.173547"
    },
    "collapsed": false
   },
   "outputs": [
    {
     "name": "stdout",
     "output_type": "stream",
     "text": [
      " 24  96 813 hightemp.txt\r\n"
     ]
    }
   ],
   "source": [
    "!wc hightemp.txt # 行数、単語数、バイト数を表示"
   ]
  },
  {
   "cell_type": "markdown",
   "metadata": {},
   "source": [
    "## 11. タブをスペースに置換\n",
    "\n",
    "タブ1文字につきスペース1文字に置換せよ。確認にはsedコマンド、trコマンド、もしくはexpandコマンドを用いよ。"
   ]
  },
  {
   "cell_type": "code",
   "execution_count": 3,
   "metadata": {
    "ExecuteTime": {
     "end_time": "2016-08-04T11:56:41.295415",
     "start_time": "2016-08-04T11:56:41.288547"
    },
    "collapsed": false
   },
   "outputs": [
    {
     "name": "stdout",
     "output_type": "stream",
     "text": [
      "高知県 江川崎 41 2013-08-12\n",
      "埼玉県 熊谷 40.9 2007-08-16\n",
      "岐阜県 多治見 40.9 2007-08-16\n",
      "山形県 山形 40.8 1933-07-25\n",
      "山梨県 甲府 40.7 2013-08-10\n",
      "和歌山県 かつらぎ 40.6 1994-08-08\n",
      "静岡県 天竜 40.6 1994-08-04\n",
      "山梨県 勝沼 40.5 2013-08-10\n",
      "埼玉県 越谷 40.4 2007-08-16\n",
      "群馬県 館林 40.3 2007-08-16\n",
      "群馬県 上里見 40.3 1998-07-04\n",
      "愛知県 愛西 40.3 1994-08-05\n",
      "千葉県 牛久 40.2 2004-07-20\n",
      "静岡県 佐久間 40.2 2001-07-24\n",
      "愛媛県 宇和島 40.2 1927-07-22\n",
      "山形県 酒田 40.1 1978-08-03\n",
      "岐阜県 美濃 40 2007-08-16\n",
      "群馬県 前橋 40 2001-07-24\n",
      "千葉県 茂原 39.9 2013-08-11\n",
      "埼玉県 鳩山 39.9 1997-07-05\n",
      "大阪府 豊中 39.9 1994-08-08\n",
      "山梨県 大月 39.9 1990-07-19\n",
      "山形県 鶴岡 39.9 1978-08-03\n",
      "愛知県 名古屋 39.9 1942-08-02\n",
      "\n"
     ]
    }
   ],
   "source": [
    "with open(text_file, 'r') as f:\n",
    "    files = f.read()\n",
    "\n",
    "files = files.replace(\"\\t\", \" \")\n",
    "print(files)"
   ]
  },
  {
   "cell_type": "code",
   "execution_count": 4,
   "metadata": {
    "ExecuteTime": {
     "end_time": "2016-08-04T11:56:41.414183",
     "start_time": "2016-08-04T11:56:41.298655"
    },
    "collapsed": false
   },
   "outputs": [
    {
     "name": "stdout",
     "output_type": "stream",
     "text": [
      "高知県 江川崎 41 2013-08-12\r\n",
      "埼玉県 熊谷 40.9 2007-08-16\r\n",
      "岐阜県 多治見 40.9 2007-08-16\r\n",
      "山形県 山形 40.8 1933-07-25\r\n",
      "山梨県 甲府 40.7 2013-08-10\r\n",
      "和歌山県 かつらぎ 40.6 1994-08-08\r\n",
      "静岡県 天竜 40.6 1994-08-04\r\n",
      "山梨県 勝沼 40.5 2013-08-10\r\n",
      "埼玉県 越谷 40.4 2007-08-16\r\n",
      "群馬県 館林 40.3 2007-08-16\r\n",
      "群馬県 上里見 40.3 1998-07-04\r\n",
      "愛知県 愛西 40.3 1994-08-05\r\n",
      "千葉県 牛久 40.2 2004-07-20\r\n",
      "静岡県 佐久間 40.2 2001-07-24\r\n",
      "愛媛県 宇和島 40.2 1927-07-22\r\n",
      "山形県 酒田 40.1 1978-08-03\r\n",
      "岐阜県 美濃 40 2007-08-16\r\n",
      "群馬県 前橋 40 2001-07-24\r\n",
      "千葉県 茂原 39.9 2013-08-11\r\n",
      "埼玉県 鳩山 39.9 1997-07-05\r\n",
      "大阪府 豊中 39.9 1994-08-08\r\n",
      "山梨県 大月 39.9 1990-07-19\r\n",
      "山形県 鶴岡 39.9 1978-08-03\r\n",
      "愛知県 名古屋 39.9 1942-08-02\r\n"
     ]
    }
   ],
   "source": [
    "!sed -e s/'\\t'/\" \"/g hightemp.txt"
   ]
  },
  {
   "cell_type": "code",
   "execution_count": 5,
   "metadata": {
    "ExecuteTime": {
     "end_time": "2016-08-04T11:56:41.527325",
     "start_time": "2016-08-04T11:56:41.417564"
    },
    "collapsed": false
   },
   "outputs": [
    {
     "name": "stdout",
     "output_type": "stream",
     "text": [
      "高知県 江川崎 41 2013-08-12\r\n",
      "埼玉県 熊谷 40.9 2007-08-16\r\n",
      "岐阜県 多治見 40.9 2007-08-16\r\n",
      "山形県 山形 40.8 1933-07-25\r\n",
      "山梨県 甲府 40.7 2013-08-10\r\n",
      "和歌山県 かつらぎ 40.6 1994-08-08\r\n",
      "静岡県 天竜 40.6 1994-08-04\r\n",
      "山梨県 勝沼 40.5 2013-08-10\r\n",
      "埼玉県 越谷 40.4 2007-08-16\r\n",
      "群馬県 館林 40.3 2007-08-16\r\n",
      "群馬県 上里見 40.3 1998-07-04\r\n",
      "愛知県 愛西 40.3 1994-08-05\r\n",
      "千葉県 牛久 40.2 2004-07-20\r\n",
      "静岡県 佐久間 40.2 2001-07-24\r\n",
      "愛媛県 宇和島 40.2 1927-07-22\r\n",
      "山形県 酒田 40.1 1978-08-03\r\n",
      "岐阜県 美濃 40 2007-08-16\r\n",
      "群馬県 前橋 40 2001-07-24\r\n",
      "千葉県 茂原 39.9 2013-08-11\r\n",
      "埼玉県 鳩山 39.9 1997-07-05\r\n",
      "大阪府 豊中 39.9 1994-08-08\r\n",
      "山梨県 大月 39.9 1990-07-19\r\n",
      "山形県 鶴岡 39.9 1978-08-03\r\n",
      "愛知県 名古屋 39.9 1942-08-02\r\n"
     ]
    }
   ],
   "source": [
    "!cat hightemp.txt | tr \"\\t\" \" \""
   ]
  },
  {
   "cell_type": "markdown",
   "metadata": {},
   "source": [
    "## 12. １列目をcol1.txtに、2列目をcol2.txtに保存\n",
    "\n",
    "各行の1列目だけを抜き出したものをcol1.txtに、2列目だけを抜き出したものをcol2.txtとしてファイルに保存せよ。確認にはcutコマンドを用いよ。"
   ]
  },
  {
   "cell_type": "code",
   "execution_count": 6,
   "metadata": {
    "ExecuteTime": {
     "end_time": "2016-08-04T11:56:41.544351",
     "start_time": "2016-08-04T11:56:41.530024"
    },
    "collapsed": false
   },
   "outputs": [],
   "source": [
    "with open(text_file, 'r') as f:\n",
    "    files = f.readlines()\n",
    "\n",
    "col1 = [row.split('\\t')[0] + '\\n' for row in files]\n",
    "col2 = [row.split('\\t')[1] + '\\n' for row in files]\n",
    "\n",
    "with open(\"col1.txt\", 'w') as w:\n",
    "    w.writelines(col1)\n",
    "\n",
    "with open(\"col2.txt\", 'w') as w:\n",
    "    w.writelines(col2)"
   ]
  },
  {
   "cell_type": "code",
   "execution_count": 7,
   "metadata": {
    "ExecuteTime": {
     "end_time": "2016-08-04T11:56:41.656824",
     "start_time": "2016-08-04T11:56:41.546402"
    },
    "collapsed": false
   },
   "outputs": [
    {
     "name": "stdout",
     "output_type": "stream",
     "text": [
      "高知県\r\n",
      "埼玉県\r\n",
      "岐阜県\r\n",
      "山形県\r\n",
      "山梨県\r\n",
      "和歌山県\r\n",
      "静岡県\r\n",
      "山梨県\r\n",
      "埼玉県\r\n",
      "群馬県\r\n",
      "群馬県\r\n",
      "愛知県\r\n",
      "千葉県\r\n",
      "静岡県\r\n",
      "愛媛県\r\n",
      "山形県\r\n",
      "岐阜県\r\n",
      "群馬県\r\n",
      "千葉県\r\n",
      "埼玉県\r\n",
      "大阪府\r\n",
      "山梨県\r\n",
      "山形県\r\n",
      "愛知県\r\n"
     ]
    }
   ],
   "source": [
    "!cut -f 1 hightemp.txt"
   ]
  },
  {
   "cell_type": "code",
   "execution_count": 8,
   "metadata": {
    "ExecuteTime": {
     "end_time": "2016-08-04T11:56:41.771184",
     "start_time": "2016-08-04T11:56:41.660418"
    },
    "collapsed": false
   },
   "outputs": [
    {
     "name": "stdout",
     "output_type": "stream",
     "text": [
      "江川崎\r\n",
      "熊谷\r\n",
      "多治見\r\n",
      "山形\r\n",
      "甲府\r\n",
      "かつらぎ\r\n",
      "天竜\r\n",
      "勝沼\r\n",
      "越谷\r\n",
      "館林\r\n",
      "上里見\r\n",
      "愛西\r\n",
      "牛久\r\n",
      "佐久間\r\n",
      "宇和島\r\n",
      "酒田\r\n",
      "美濃\r\n",
      "前橋\r\n",
      "茂原\r\n",
      "鳩山\r\n",
      "豊中\r\n",
      "大月\r\n",
      "鶴岡\r\n",
      "名古屋\r\n"
     ]
    }
   ],
   "source": [
    "!cut -f 2 hightemp.txt"
   ]
  },
  {
   "cell_type": "markdown",
   "metadata": {},
   "source": [
    "## 13. col1.txtとcol2.txtをマージ\n",
    "\n",
    "12で作ったcol1.txtとcol2.txtを結合し、元のファイルの1列目と2列目をタブ区切りで並べたテキストファイルを作成せよ。確認にはpaseteコマンドを用いよ。"
   ]
  },
  {
   "cell_type": "code",
   "execution_count": 9,
   "metadata": {
    "ExecuteTime": {
     "end_time": "2016-08-04T11:56:41.780979",
     "start_time": "2016-08-04T11:56:41.773372"
    },
    "collapsed": false
   },
   "outputs": [],
   "source": [
    "with open(\"col1.txt\", 'r') as col1, open(\"col2.txt\", 'r') as col2:\n",
    "    lines1 = col1.readlines()\n",
    "    lines2 = col2.readlines()\n",
    "\n",
    "with open(\"merge.txt\", 'w') as w:\n",
    "    for col1, col2 in zip(lines1, lines2):\n",
    "        # col1には改行が入っているため、取り除いて連結\n",
    "        row = col1.rstrip() + '\\t' + col2\n",
    "        w.writelines(row)"
   ]
  },
  {
   "cell_type": "code",
   "execution_count": 10,
   "metadata": {
    "ExecuteTime": {
     "end_time": "2016-08-04T11:56:41.910346",
     "start_time": "2016-08-04T11:56:41.782820"
    },
    "collapsed": false
   },
   "outputs": [
    {
     "name": "stdout",
     "output_type": "stream",
     "text": [
      "高知県\t江川崎\r\n",
      "埼玉県\t熊谷\r\n",
      "岐阜県\t多治見\r\n",
      "山形県\t山形\r\n",
      "山梨県\t甲府\r\n",
      "和歌山県\tかつらぎ\r\n",
      "静岡県\t天竜\r\n",
      "山梨県\t勝沼\r\n",
      "埼玉県\t越谷\r\n",
      "群馬県\t館林\r\n",
      "群馬県\t上里見\r\n",
      "愛知県\t愛西\r\n",
      "千葉県\t牛久\r\n",
      "静岡県\t佐久間\r\n",
      "愛媛県\t宇和島\r\n",
      "山形県\t酒田\r\n",
      "岐阜県\t美濃\r\n",
      "群馬県\t前橋\r\n",
      "千葉県\t茂原\r\n",
      "埼玉県\t鳩山\r\n",
      "大阪府\t豊中\r\n",
      "山梨県\t大月\r\n",
      "山形県\t鶴岡\r\n",
      "愛知県\t名古屋\r\n"
     ]
    }
   ],
   "source": [
    "!paste -d '\\t' col1.txt col2.txt"
   ]
  },
  {
   "cell_type": "markdown",
   "metadata": {},
   "source": [
    "## 14. 先頭からN行を出力\n",
    "\n",
    "自然数Nをコマンドライン引数などの手段で受け取り、入力のうち先頭のN行だけを表示せよ。確認にはheadコマンドを用いよ。"
   ]
  },
  {
   "cell_type": "code",
   "execution_count": 17,
   "metadata": {
    "ExecuteTime": {
     "end_time": "2016-08-04T12:05:35.533127",
     "start_time": "2016-08-04T12:05:35.526533"
    },
    "collapsed": false
   },
   "outputs": [
    {
     "name": "stdout",
     "output_type": "stream",
     "text": [
      "高知県\t江川崎\t41\t2013-08-12\n",
      "埼玉県\t熊谷\t40.9\t2007-08-16\n",
      "岐阜県\t多治見\t40.9\t2007-08-16\n"
     ]
    }
   ],
   "source": [
    "N = 3\n",
    "with open(text_file, 'r') as f:\n",
    "    lines = f.readlines()\n",
    "    \n",
    "for line in lines[:N]:\n",
    "    print(line.rstrip())"
   ]
  },
  {
   "cell_type": "code",
   "execution_count": 16,
   "metadata": {
    "ExecuteTime": {
     "end_time": "2016-08-04T12:05:01.557170",
     "start_time": "2016-08-04T12:05:01.448556"
    },
    "collapsed": false
   },
   "outputs": [
    {
     "name": "stdout",
     "output_type": "stream",
     "text": [
      "高知県\t江川崎\t41\t2013-08-12\r\n",
      "埼玉県\t熊谷\t40.9\t2007-08-16\r\n",
      "岐阜県\t多治見\t40.9\t2007-08-16\r\n"
     ]
    }
   ],
   "source": [
    "!head -3 hightemp.txt"
   ]
  },
  {
   "cell_type": "markdown",
   "metadata": {},
   "source": [
    "## 15. 末尾のN行を出力\n",
    "\n",
    "自然数Nをコマンドライン引数などの手段で受け取り、入力の末尾のN行だけを表示せよ。確認にはtailコマンドを用いよ。"
   ]
  },
  {
   "cell_type": "code",
   "execution_count": 20,
   "metadata": {
    "ExecuteTime": {
     "end_time": "2016-08-04T12:10:23.482799",
     "start_time": "2016-08-04T12:10:23.477024"
    },
    "collapsed": false
   },
   "outputs": [
    {
     "name": "stdout",
     "output_type": "stream",
     "text": [
      "大阪府\t豊中\t39.9\t1994-08-08\n",
      "山梨県\t大月\t39.9\t1990-07-19\n",
      "山形県\t鶴岡\t39.9\t1978-08-03\n",
      "愛知県\t名古屋\t39.9\t1942-08-02\n"
     ]
    }
   ],
   "source": [
    "N = 4\n",
    "with open(text_file, 'r') as f:\n",
    "    lines = f.readlines()\n",
    "\n",
    "for line in lines[len(lines)-N:]:\n",
    "    print(line.rstrip())"
   ]
  },
  {
   "cell_type": "code",
   "execution_count": 19,
   "metadata": {
    "ExecuteTime": {
     "end_time": "2016-08-04T12:06:01.036462",
     "start_time": "2016-08-04T12:06:00.922914"
    },
    "collapsed": false
   },
   "outputs": [
    {
     "name": "stdout",
     "output_type": "stream",
     "text": [
      "大阪府\t豊中\t39.9\t1994-08-08\r\n",
      "山梨県\t大月\t39.9\t1990-07-19\r\n",
      "山形県\t鶴岡\t39.9\t1978-08-03\r\n",
      "愛知県\t名古屋\t39.9\t1942-08-02\r\n"
     ]
    }
   ],
   "source": [
    "!tail -4 hightemp.txt"
   ]
  },
  {
   "cell_type": "markdown",
   "metadata": {},
   "source": [
    "## 16. ファイルをN分割する\n",
    "\n",
    "自然数Nをコマンドライン引数などの手段で受け取り、入力のファイルを行単位でN分割せよ。同様の処理をsplitコマンドで実現せよ。"
   ]
  },
  {
   "cell_type": "code",
   "execution_count": null,
   "metadata": {
    "collapsed": true
   },
   "outputs": [],
   "source": [
    "N = 4\n",
    "\n",
    "with open(text_file, 'r') as f:\n",
    "    lines = f.readlines()\n",
    "\n",
    "split_num = len(lines) / N\n",
    "\n",
    "for i in range(0, N):\n",
    "    filename = \"split%d\" % i\n",
    "    \n",
    "    with open(filename, 'w') as w:\n",
    "        "
   ]
  },
  {
   "cell_type": "markdown",
   "metadata": {},
   "source": [
    "## 17. 1列目の文字列の異なり\n",
    "\n",
    "1列目の文字列の種類（異なる文字列の集合）を求めよ。確認にはsort、uniqコマンドを用いよ。"
   ]
  },
  {
   "cell_type": "code",
   "execution_count": null,
   "metadata": {
    "collapsed": true
   },
   "outputs": [],
   "source": []
  },
  {
   "cell_type": "markdown",
   "metadata": {},
   "source": [
    "## 18. 各行を3コラム目の数値の降順にソート\n",
    "\n",
    "各行を3コラム目の数値の逆順で整列せよ（注意：各業の内容は変更せずに並び替えよ）。確認にはsortコマンドを用いよ（この問題はコマンドで実行した時の結果と合わなくても良い）。"
   ]
  },
  {
   "cell_type": "code",
   "execution_count": null,
   "metadata": {
    "collapsed": true
   },
   "outputs": [],
   "source": []
  },
  {
   "cell_type": "markdown",
   "metadata": {},
   "source": [
    "## 19. 各行の1コラム目の文字列の出現頻度を求め、出現頻度の高い順に並べる\n",
    "\n",
    "各行の1列目の文字列の出現頻度を求め、その高い順に並べて表示せよ。確認はcut、uniq、sortコマンドを用いよ。"
   ]
  },
  {
   "cell_type": "code",
   "execution_count": null,
   "metadata": {
    "collapsed": true
   },
   "outputs": [],
   "source": []
  }
 ],
 "metadata": {
  "kernelspec": {
   "display_name": "Python 3",
   "language": "python",
   "name": "python3"
  },
  "language_info": {
   "codemirror_mode": {
    "name": "ipython",
    "version": 3
   },
   "file_extension": ".py",
   "mimetype": "text/x-python",
   "name": "python",
   "nbconvert_exporter": "python",
   "pygments_lexer": "ipython3",
   "version": "3.5.2"
  }
 },
 "nbformat": 4,
 "nbformat_minor": 0
}
