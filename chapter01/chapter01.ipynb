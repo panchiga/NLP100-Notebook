{
 "cells": [
  {
   "cell_type": "markdown",
   "metadata": {},
   "source": [
    "# 第1章：準備運動"
   ]
  },
  {
   "cell_type": "markdown",
   "metadata": {},
   "source": [
    "## 00.文字列の逆順\n",
    "\n",
    "文字列\"stressed\"の文字を逆に（末尾から先頭に向かって）並べた文字列を得よ。"
   ]
  },
  {
   "cell_type": "code",
   "execution_count": 1,
   "metadata": {
    "ExecuteTime": {
     "end_time": "2016-08-03T17:50:28.586118",
     "start_time": "2016-08-03T17:50:28.573290"
    },
    "collapsed": false
   },
   "outputs": [
    {
     "name": "stdout",
     "output_type": "stream",
     "text": [
      "desserts\n"
     ]
    }
   ],
   "source": [
    "word = \"stressed\"\n",
    "print(word[::-1])"
   ]
  },
  {
   "cell_type": "markdown",
   "metadata": {},
   "source": [
    "## 01.「パタトクカシーー」\n",
    "\n",
    "「パタトクカシーー」という文字列の1,3,5,7文字目を取り出して連結した文字列を得よ。"
   ]
  },
  {
   "cell_type": "code",
   "execution_count": 2,
   "metadata": {
    "ExecuteTime": {
     "end_time": "2016-08-03T17:50:28.605670",
     "start_time": "2016-08-03T17:50:28.590321"
    },
    "collapsed": false
   },
   "outputs": [
    {
     "name": "stdout",
     "output_type": "stream",
     "text": [
      "パトカー\n"
     ]
    }
   ],
   "source": [
    "word = \"パタトクカシーー\"\n",
    "print(word[::2])"
   ]
  },
  {
   "cell_type": "markdown",
   "metadata": {},
   "source": [
    "## 02. 「パトカー」+「タクシー」=「パタトクカシーー」\n",
    "\n",
    "「パトカー」+「タクシー」の文字列を先頭から交互に連結して、文字列「パタトクカシー」を得よ。"
   ]
  },
  {
   "cell_type": "code",
   "execution_count": 3,
   "metadata": {
    "ExecuteTime": {
     "end_time": "2016-08-03T17:50:28.626065",
     "start_time": "2016-08-03T17:50:28.610054"
    },
    "collapsed": false
   },
   "outputs": [
    {
     "name": "stdout",
     "output_type": "stream",
     "text": [
      "パタトクカシーー\n"
     ]
    }
   ],
   "source": [
    "patrol_car = \"パトカー\"\n",
    "taxi = \"タクシー\"\n",
    "word = \"\"\n",
    "\n",
    "for i, j in zip(patrol_car, taxi):\n",
    "    word += i + j\n",
    "\n",
    "print(word)"
   ]
  },
  {
   "cell_type": "markdown",
   "metadata": {},
   "source": [
    "## 03. 円周率\n",
    "\n",
    "\"Now I need a drink, alcoholic of course, after the heavy lectures involving quantum mechanics.\"という文を単語に分解し、各単語の（アルファベット）文字数を先頭から出現順に並べたリストを作成せよ。"
   ]
  },
  {
   "cell_type": "code",
   "execution_count": 4,
   "metadata": {
    "ExecuteTime": {
     "end_time": "2016-08-03T17:50:28.648308",
     "start_time": "2016-08-03T17:50:28.630194"
    },
    "collapsed": false
   },
   "outputs": [
    {
     "name": "stdout",
     "output_type": "stream",
     "text": [
      "[3, 1, 4, 1, 5, 9, 2, 6, 5, 3, 5, 8, 9, 7, 9]\n"
     ]
    }
   ],
   "source": [
    "sentence = \"Now I need a drink, alcoholic of course, after the heavy lectures involving quantum mechanics.\"\n",
    "sentence = sentence.replace(\".\", \"\")\n",
    "sentence = sentence.replace(\",\", \"\")\n",
    "sentence = sentence.split(\" \")\n",
    "\n",
    "len_list = [len(word) for word in sentence]\n",
    "print(len_list)"
   ]
  },
  {
   "cell_type": "markdown",
   "metadata": {},
   "source": [
    "## 04. 元素記号\n",
    "\n",
    "\"Hi He Lied Because Boron Could Not Oxidize Fluorine. New Nations Might Also Sign Peace Security Clause. Arthur King Can.\"という文を単語に分解し、1,5,6,7,8,9,15,16,19番目の単語は先頭の1文字、それ以外の単語は先頭の2文字を取り出し、取り出した文字列から単語の位置（先頭から何番目の単語か）への連想配列（辞書型もしくはマップ型）を作成せよ。"
   ]
  },
  {
   "cell_type": "code",
   "execution_count": 5,
   "metadata": {
    "ExecuteTime": {
     "end_time": "2016-08-03T17:50:28.671095",
     "start_time": "2016-08-03T17:50:28.652462"
    },
    "collapsed": false
   },
   "outputs": [
    {
     "name": "stdout",
     "output_type": "stream",
     "text": [
      "{1: 'H', 2: 'He', 3: 'Li', 4: 'Be', 5: 'B', 6: 'C', 7: 'N', 8: 'O', 9: 'F', 10: 'Ne', 11: 'Na', 12: 'Mi', 13: 'Al', 14: 'Si', 15: 'P', 16: 'S', 17: 'Cl', 18: 'Ar', 19: 'K', 20: 'Ca'}\n"
     ]
    }
   ],
   "source": [
    "sentence = \"Hi He Lied Because Boron Could Not Oxidize Fluorine. New Nations Might Also Sign Peace Security Clause. Arthur King Can.\"\n",
    "sentence = sentence.replace(\".\", \"\")\n",
    "sentence = sentence.split(\" \")\n",
    "\n",
    "index_list = [1,5,6,7,8,9,15,16,19]\n",
    "word_dict = {}\n",
    "for i, word in enumerate(sentence):\n",
    "    if i+1 in index_list:\n",
    "        word_dict[i+1] = word[:1]\n",
    "    else:\n",
    "        word_dict[i+1] = word[:2]\n",
    "print(word_dict)"
   ]
  },
  {
   "cell_type": "markdown",
   "metadata": {},
   "source": [
    "## 05. n-gram\n",
    "\n",
    "与えられたシーケンス（文字列やリストなど）からn-gramを作る関数を作成せよ。この関数を用いて、\"I am an NLPer\"という文から単語bi-gram、文字bi-gramを得よ。"
   ]
  },
  {
   "cell_type": "code",
   "execution_count": 6,
   "metadata": {
    "ExecuteTime": {
     "end_time": "2016-08-03T17:50:28.695195",
     "start_time": "2016-08-03T17:50:28.675363"
    },
    "collapsed": false
   },
   "outputs": [
    {
     "name": "stdout",
     "output_type": "stream",
     "text": [
      "['I ', ' a', 'am', 'm ', ' a', 'an', 'n ', ' N', 'NL', 'LP', 'Pe', 'er']\n",
      "[['I', 'am'], ['am', 'an'], ['an', 'NLPer']]\n"
     ]
    }
   ],
   "source": [
    "def ngram(sequence, n):\n",
    "    results = []\n",
    "    if len(sentence) >= n:\n",
    "        for i in range(0, len(sequence)-n+1):\n",
    "            results.append(sequence[i:i+n])\n",
    "    return results\n",
    "\n",
    "sentence = \"I am an NLPer\"\n",
    "\n",
    "# 文字n-gram\n",
    "results = ngram(sentence, 2)\n",
    "print(results)\n",
    "\n",
    "# 単語n-gram\n",
    "sentence = sentence.split(\" \")\n",
    "results = ngram(sentence, 2)\n",
    "print(results)"
   ]
  },
  {
   "cell_type": "markdown",
   "metadata": {},
   "source": [
    "## 06. 集合\n",
    "\n",
    "\"paraparaparadise\"と\"paragraph\"に含まれる文字bi-gramの集合を、それぞれXとYとして求め、XとYの和集合・積集合・差集合として求めよ。さらに'se'というbi-gramがXおよびYに含まれるかどうか調べよ。"
   ]
  },
  {
   "cell_type": "code",
   "execution_count": 7,
   "metadata": {
    "ExecuteTime": {
     "end_time": "2016-08-03T17:50:28.720996",
     "start_time": "2016-08-03T17:50:28.697908"
    },
    "collapsed": false
   },
   "outputs": [
    {
     "name": "stdout",
     "output_type": "stream",
     "text": [
      "X  : {'di', 'ad', 'ap', 'ra', 'is', 'se', 'pa', 'ar'}\n",
      "Y  : {'gr', 'ph', 'ap', 'ag', 'ra', 'pa', 'ar'}\n",
      "X+Y: {'di', 'gr', 'ad', 'ph', 'ap', 'ag', 'ra', 'is', 'se', 'pa', 'ar'}\n",
      "X*Y: {'ap', 'pa', 'ra', 'ar'}\n",
      "X-Y: {'se', 'di', 'ad', 'is'}\n",
      "'se' in X? -> True\n",
      "'se' in Y? -> False\n"
     ]
    }
   ],
   "source": [
    "word1 = \"paraparaparadise\"\n",
    "word2 = \"paragraph\"\n",
    "\n",
    "X = ngram(word1, 2)\n",
    "Y = ngram(word2, 2)\n",
    "\n",
    "X =set(X)\n",
    "Y =set(Y)\n",
    "\n",
    "print(\"X  : %s\" % X)\n",
    "print(\"Y  : %s\" % Y)\n",
    "print(\"X+Y: %s\" % X.union(Y))\n",
    "print(\"X*Y: %s\" % X.intersection(Y))\n",
    "print(\"X-Y: %s\" % X.difference(Y))\n",
    "\n",
    "print(\"'se' in X? -> %s\" % ('se' in X))\n",
    "print(\"'se' in Y? -> %s\" % ('se' in Y))"
   ]
  },
  {
   "cell_type": "markdown",
   "metadata": {},
   "source": [
    "## 07. テンプレートによる文生成\n",
    "\n",
    "引数$x$、 $y$、 $z$を受け取り、「$x$時の$y$は$z$」という文字列を返す関数を実装せよ。さらに$x=12$、$y=$\"気温\"、$z=22.4$として、実行結果を確認せよ。"
   ]
  },
  {
   "cell_type": "code",
   "execution_count": 8,
   "metadata": {
    "ExecuteTime": {
     "end_time": "2016-08-03T17:50:28.741951",
     "start_time": "2016-08-03T17:50:28.726470"
    },
    "collapsed": false
   },
   "outputs": [
    {
     "name": "stdout",
     "output_type": "stream",
     "text": [
      "12時の気温は22.4です。\n"
     ]
    }
   ],
   "source": [
    "def generate_sentence(x, y, z):\n",
    "    return \"%s時の%sは%sです。\" % (x, y, z)\n",
    "\n",
    "x = 12; y = \"気温\"; z = 22.4\n",
    "print(generate_sentence(x, y, z))"
   ]
  },
  {
   "cell_type": "markdown",
   "metadata": {},
   "source": [
    "## 08. 暗号文\n",
    "\n",
    "与えられた文字列の各文字を、以下の仕様で変換する関数*cipher*を実装せよ。\n",
    "\n",
    "* 英小文字ならば（219 - 文字コード）の文字に置換\n",
    "* その他の文字はそのまま出力\n",
    "\n",
    "この関数を用いて、英語のメッセージを暗号化・復号せよ。"
   ]
  },
  {
   "cell_type": "code",
   "execution_count": 9,
   "metadata": {
    "ExecuteTime": {
     "end_time": "2016-08-03T17:50:28.768389",
     "start_time": "2016-08-03T17:50:28.746271"
    },
    "collapsed": false
   },
   "outputs": [
    {
     "name": "stdout",
     "output_type": "stream",
     "text": [
      "Agyzhs rh z hrnkov hfyhgrgfgrlm xrksvi uli gsv Hvyivd zokszyvg.\n",
      "Atbash is a simple substitution cipher for the Hebrew alphabet.\n"
     ]
    }
   ],
   "source": [
    "def cipher(sentence):\n",
    "    results = [chr(219-ord(char)) if char.islower() else char for char in sentence ]\n",
    "    return \"\".join(results)\n",
    "\n",
    "# この暗号はアドバシュ暗号っていうみたい\n",
    "sentence = \"Atbash is a simple substitution cipher for the Hebrew alphabet.\"\n",
    "print(cipher(sentence))\n",
    "print(cipher(cipher(sentence)))"
   ]
  },
  {
   "cell_type": "markdown",
   "metadata": {},
   "source": [
    "## 09. Typoglycemia\n",
    "\n",
    "スペースで区切られた単語列に対して、各単語の先頭と末尾の文字は残し、それ以外の文字の順序をランダムに並び替えるプログラムを作成せよ。ただし、長さが4以下の単語は並び替えないこととする。適当な英語の文（\"I couldn't believe that I could actually understand what I was reading : the phenomenal power of the human mind.\"）を与え、その実行結果を確認せよ。"
   ]
  },
  {
   "cell_type": "code",
   "execution_count": 10,
   "metadata": {
    "ExecuteTime": {
     "end_time": "2016-08-03T17:50:28.798461",
     "start_time": "2016-08-03T17:50:28.772842"
    },
    "collapsed": false
   },
   "outputs": [
    {
     "name": "stdout",
     "output_type": "stream",
     "text": [
      "I c'duolnt beilvee that I cluod aulltacy urasndtned what I was reidnag : the pnnoemehal pwoer of the human mndi.\n"
     ]
    }
   ],
   "source": [
    "import random\n",
    "\n",
    "sentence = \"I couldn't believe that I could actually understand what I was reading : the phenomenal power of the human mind.\"\n",
    "words = sentence.split(\" \")\n",
    "\n",
    "shuffled_list = []\n",
    "for word in words:\n",
    "    if len(word) <= 4:\n",
    "        pass\n",
    "    else:\n",
    "        char_list = list(word)     # 文字列を一文字ずつリストに格納\n",
    "        mid_list = char_list[1:-1] # 先頭と末尾の文字以外を取り出す\n",
    "        random.shuffle(mid_list)   # 取り出した文字列をシャッフル\n",
    "        word = word[0] + \"\".join(mid_list) + word[-1]\n",
    "    shuffled_list.append(word)\n",
    "\n",
    "shuffled_str = \" \".join(shuffled_list)\n",
    "print(shuffled_str)    "
   ]
  }
 ],
 "metadata": {
  "kernelspec": {
   "display_name": "Python 3",
   "language": "python",
   "name": "python3"
  },
  "language_info": {
   "codemirror_mode": {
    "name": "ipython",
    "version": 3
   },
   "file_extension": ".py",
   "mimetype": "text/x-python",
   "name": "python",
   "nbconvert_exporter": "python",
   "pygments_lexer": "ipython3",
   "version": "3.5.2"
  }
 },
 "nbformat": 4,
 "nbformat_minor": 0
}
